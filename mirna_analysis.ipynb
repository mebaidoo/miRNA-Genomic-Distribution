{
 "cells": [
  {
   "cell_type": "code",
   "execution_count": 1,
   "id": "ef96979e-d88c-4988-b4d8-79408b42527f",
   "metadata": {},
   "outputs": [],
   "source": [
    "import pandas as pd\n",
    "import matplotlib.pyplot as plt\n",
    "import seaborn as sns\n",
    "import scipy.stats as stats"
   ]
  },
  {
   "cell_type": "markdown",
   "id": "c1f371e3-0f0b-436a-a5c7-98e213adf98a",
   "metadata": {},
   "source": [
    "# Functions\n",
    "##### Includes functions for normality tests and plots, z-score calculation and z-score plots, and comparison plots between length of chromosomes and number of miRNAs"
   ]
  },
  {
   "cell_type": "code",
   "execution_count": 2,
   "id": "aac16e9a-d9c2-4459-87e9-cb7d523675f1",
   "metadata": {},
   "outputs": [],
   "source": [
    "# Function to convert chromosome length in bp to Mbp\n",
    "def convert_to_megabase(df, bp_column='Length (bp)'):\n",
    "    df['Length (Mbp)'] = df[bp_column] / 1_000_000\n",
    "    return df"
   ]
  },
  {
   "cell_type": "code",
   "execution_count": 3,
   "id": "806942f0-9f39-43c2-a504-0d81c49ad1f5",
   "metadata": {},
   "outputs": [],
   "source": [
    "# Function to calculate miRNA density, taking into account chromosome length\n",
    "# For example, a chromosome might have lesser microRNAs only because it is smaller, and might actually have a higher miRNA density\n",
    "def calculate_mirna_density(df, mirna_column='Number of miRNA', length_column='Length (Mbp)'):\n",
    "    df['miRNA_density'] = df[mirna_column] / df[length_column]\n",
    "    return df"
   ]
  },
  {
   "cell_type": "code",
   "execution_count": 4,
   "id": "24d31d30-496a-4e7f-8c54-fea90ff9401e",
   "metadata": {},
   "outputs": [],
   "source": [
    "# Function to test for normality of the data using Shapiro-Wilk test\n",
    "def run_shapiro_tests(df_list, column):\n",
    "    results = {}\n",
    "    for df, organism in zip(df_list, organisms):\n",
    "        stat, p = stats.shapiro(df[column])\n",
    "        results[organism] = {'W-statistic': stat, 'p-value': p}\n",
    "    return results"
   ]
  },
  {
   "cell_type": "code",
   "execution_count": 5,
   "id": "d0479100-d0c0-47ec-8767-e68babf86d62",
   "metadata": {},
   "outputs": [],
   "source": [
    "# Functions to visualize the normality of the miRNA density and save images in figures with subplots for each organism\n",
    "def plot_all_histograms(df_list, organisms):\n",
    "    # Create a subplot figure with 6 subplots (2 rows, 3 columns)\n",
    "    fig, axes = plt.subplots(2, 3, figsize=(18, 10))\n",
    "    axes = axes.flatten()  # Flatten to easily loop through the subplots\n",
    "    for i, (df, org) in enumerate(zip(df_list, organisms)):\n",
    "        sns.histplot(df['miRNA_density'], kde=True, ax=axes[i])\n",
    "        axes[i].set_title(f'{org}: Histogram of miRNA Density')\n",
    "        axes[i].set_xlabel('miRNA Density')\n",
    "        axes[i].set_ylabel('Frequency')\n",
    "    plt.tight_layout()\n",
    "    plt.savefig('images/all_histograms.png')  # Save combined figure\n",
    "    plt.close() # Close the plot to avoid memory issues\n",
    "\n",
    "def plot_all_qq(df_list, organisms):\n",
    "    fig, axes = plt.subplots(2, 3, figsize=(18, 10))\n",
    "    axes = axes.flatten()\n",
    "    for i, (df, org) in enumerate(zip(df_list, organisms)):\n",
    "        stats.probplot(df['miRNA_density'], dist=\"norm\", plot=axes[i])\n",
    "        axes[i].set_title(f'{org}: Q-Q Plot of miRNA Density')\n",
    "    plt.tight_layout()\n",
    "    plt.savefig('images/all_qqplots.png')  # Save combined figure\n",
    "    plt.close()"
   ]
  },
  {
   "cell_type": "code",
   "execution_count": 6,
   "id": "07083f9b-39a0-4fe2-aa45-88861ae5ad96",
   "metadata": {},
   "outputs": [],
   "source": [
    "# Function for calculating z scores to test for statistically significant deviations from the mean\n",
    "# Z-score assumes data is normally distributed (which it is from normality tests)\n",
    "def calculate_z_scores(df_list, mirna_density_column='miRNA_density'):\n",
    "    for df in df_list:\n",
    "        # Calculate the z-score for miRNA density\n",
    "        df['z_score'] = stats.zscore(df[mirna_density_column])\n",
    "        \n",
    "        # Mark outliers based on z-score threshold (absolute value greater than 3)\n",
    "        df['outlier'] = df['z_score'].abs() > 3\n",
    "    return df_list  # Return the updated list of dataframes"
   ]
  },
  {
   "cell_type": "code",
   "execution_count": 7,
   "id": "4b860c62-b7b8-46b7-a7d2-9fd93f8e41f6",
   "metadata": {},
   "outputs": [],
   "source": [
    "# Function to plot individual z-scores for each organism and save plots\n",
    "def plot_z_scores(df_list, organisms):\n",
    "    for df, organism in zip(df_list, organisms):\n",
    "        plt.figure(figsize=(12, 6))\n",
    "        \n",
    "        # Plot z-scores for each organism's data\n",
    "        sns.barplot(data=df, x='Chromosome', y='z_score', hue='outlier', palette='coolwarm')\n",
    "        \n",
    "        # Add horizontal lines to indicate z-score threshold for outliers\n",
    "        plt.axhline(0, color='gray', linestyle='--')\n",
    "        plt.axhline(3, color='red', linestyle='--')\n",
    "        plt.axhline(-3, color='red', linestyle='--')\n",
    "\n",
    "        # Set plot title and labels\n",
    "        plt.title(f'{organism}: Z-Score of miRNA Density by Chromosome')\n",
    "        plt.xticks(rotation=45)  # Rotate x-axis labels for better visibility\n",
    "        plt.tight_layout()\n",
    "        \n",
    "        # Save the individual plot for each organism\n",
    "        plt.savefig(f'images/{organism}_zscore_plot.png')\n",
    "        plt.close()"
   ]
  },
  {
   "cell_type": "code",
   "execution_count": 8,
   "id": "751e3960-62c1-436f-8c16-652aa6f54845",
   "metadata": {},
   "outputs": [],
   "source": [
    "# Function to plot z-score for each organism as a subplot in one figure\n",
    "def plot_all_z_scores(df_list, organisms):\n",
    "    fig, axes = plt.subplots(2, 3, figsize=(18, 10))  # 2 rows, 3 columns\n",
    "    axes = axes.flatten()\n",
    "    for i, (df, org) in enumerate(zip(df_list, organisms)):\n",
    "        sns.barplot(data=df, x='Chromosome', y='z_score', hue='outlier', palette='coolwarm', ax=axes[i])\n",
    "        axes[i].axhline(0, color='gray', linestyle='--')\n",
    "        axes[i].axhline(3, color='red', linestyle='--')\n",
    "        axes[i].axhline(-3, color='red', linestyle='--')\n",
    "        axes[i].set_title(f'{org}: Z-Score of miRNA Density by Chromosome')\n",
    "        axes[i].tick_params(axis='x', rotation=45)\n",
    "    plt.tight_layout()\n",
    "    plt.savefig('images/all_zscore_plots.png')  # Save combined figure\n",
    "    plt.close()"
   ]
  },
  {
   "cell_type": "code",
   "execution_count": 9,
   "id": "f96d70b1-3d7c-4aa7-a0bb-0a4448c5f7a6",
   "metadata": {},
   "outputs": [],
   "source": [
    "# Function to plot the length of each chromosome and its number of miRNAs for comparison\n",
    "# And save individual plots for each organism as well as a combined plot\n",
    "def plot_chromosome_comparison(df_list, organisms):\n",
    "    fig, axes = plt.subplots(2, 3, figsize=(18, 12))\n",
    "    axes = axes.flatten()\n",
    "    fig.suptitle(\"Chromosome Length vs. miRNA Count\", fontsize=16)  \n",
    "    for i, (df, org) in enumerate(zip(df_list, organisms)):\n",
    "        # Bar plot for chromosome length\n",
    "        sns.barplot(x='Chromosome', y='Length (Mbp)', data=df, color='skyblue', ax=axes[i], label='Length (Mbp)')\n",
    "\n",
    "        # Line plot for miRNA count\n",
    "        sns.lineplot(x='Chromosome', y='Number of miRNA', data=df, color='red', marker='o', ax=axes[i], label='miRNA Count')\n",
    "\n",
    "        axes[i].set_xticks(range(len(df['Chromosome'])))  # Set fixed tick positions\n",
    "        axes[i].set_xticklabels(df['Chromosome'], rotation=90)\n",
    "        axes[i].set_title(f'{org}')\n",
    "        axes[i].set_xlabel('Chromosome')\n",
    "        axes[i].set_ylabel('Value')\n",
    "        axes[i].legend()\n",
    "\n",
    "        # Save each individual figure\n",
    "        plt.figure(figsize=(12, 6))\n",
    "        sns.barplot(x='Chromosome', y='Length (Mbp)', data=df, color='skyblue', label='Length (Mbp)')\n",
    "        sns.lineplot(x='Chromosome', y='Number of miRNA', data=df, color='red', marker='o', label='miRNA Count')\n",
    "        plt.xticks(rotation=90)\n",
    "        plt.legend()\n",
    "        plt.title(f'{org}: Chromosome Length vs. miRNA Count')\n",
    "        plt.xlabel('Chromosome')\n",
    "        plt.ylabel('Value')\n",
    "        plt.tight_layout()\n",
    "        plt.savefig(f\"images/{org}_comparison.png\", dpi=300, bbox_inches='tight')\n",
    "        plt.close()  # Close to prevent overlapping figures\n",
    "\n",
    "    # Save the subplot figure\n",
    "    plt.tight_layout()\n",
    "    plt.savefig(\"images/all_organisms_comparison.png\", dpi=300, bbox_inches='tight')\n",
    "    plt.close()"
   ]
  },
  {
   "cell_type": "markdown",
   "id": "678bf344-5166-432f-86eb-8f83e9a573a4",
   "metadata": {},
   "source": [
    "# Run all functions for all organisms"
   ]
  },
  {
   "cell_type": "code",
   "execution_count": 11,
   "id": "75b76f50-150a-44cc-bef0-e7102a7412e7",
   "metadata": {},
   "outputs": [
    {
     "name": "stdout",
     "output_type": "stream",
     "text": [
      "human: W-statistic = 0.7316529382290032, p-value = 2.7191753919546344e-05\n",
      "mouse: W-statistic = 0.9249711650668117, p-value = 0.10912690866764052\n",
      "rat: W-statistic = 0.8602921699977656, p-value = 0.005190541945566848\n",
      "fly: W-statistic = 0.9093860178437431, p-value = 0.4323693903085549\n",
      "worm: W-statistic = 0.9830700129249585, p-value = 0.9657609809316614\n",
      "arabidopsis: W-statistic = 0.7242536763210208, p-value = 0.01688807626189261\n"
     ]
    }
   ],
   "source": [
    "# List of organism names\n",
    "organisms = ['human', 'mouse', 'rat', 'fly', 'worm', 'arabidopsis']\n",
    "\n",
    "# List to store dataframes for each organism\n",
    "df_list = []\n",
    "\n",
    "# Load data for each organism\n",
    "for org in organisms:\n",
    "    df = pd.read_excel('data/data.xlsx', sheet_name=org)  # Load the sheet corresponding to each organism\n",
    "    # Convert base pairs to mega base pairs for chromosome length\n",
    "    df = convert_to_megabase(df)\n",
    "    # Calculate miRNA density to take chromosome length into account\n",
    "    # For example, a chromosome might have lesser microRNAs only because it is smaller, and might actually have a higher miRNA density\n",
    "    df = calculate_mirna_density(df)\n",
    "    # Add each df to the df_list\n",
    "    df_list.append(df)\n",
    "\n",
    "# Normality tests\n",
    "# Plot histograms and QQ plots for each organism as subplots in one figure and save figure\n",
    "plot_all_histograms(df_list, organisms)\n",
    "plot_all_qq(df_list, organisms)\n",
    "# Shapiro-Wilk normality test\n",
    "normality_results = run_shapiro_tests(df_list, 'miRNA_density')\n",
    "# Print results\n",
    "for organism, result in normality_results.items():\n",
    "    print(f\"{organism}: W-statistic = {result['W-statistic']}, p-value = {result['p-value']}\") \n",
    "    # If p < 0.05, the miRNA density does not follow a normal distribution\n",
    "\n",
    "# Calculate z-scores for each dataframe in the list\n",
    "df_list = calculate_z_scores(df_list)\n",
    "\n",
    "# Plot z-scores for each organism\n",
    "plot_z_scores(df_list, organisms)\n",
    "\n",
    "# Plot z-scores for all organisms as subplots in a figure\n",
    "plot_all_z_scores(df_list, organisms)\n",
    "\n",
    "# Plots to compare the length of each chromosome to its number of miRNAs\n",
    "plot_chromosome_comparison(df_list, organisms)"
   ]
  },
  {
   "cell_type": "raw",
   "id": "e92e72fe-b4b5-410c-ba48-bd0fd8c54b75",
   "metadata": {},
   "source": [
    "miRNA density does not follow a normal distribution for humans and rats (p < 0.05)."
   ]
  }
 ],
 "metadata": {
  "kernelspec": {
   "display_name": "Python 3 (ipykernel)",
   "language": "python",
   "name": "python3"
  },
  "language_info": {
   "codemirror_mode": {
    "name": "ipython",
    "version": 3
   },
   "file_extension": ".py",
   "mimetype": "text/x-python",
   "name": "python",
   "nbconvert_exporter": "python",
   "pygments_lexer": "ipython3",
   "version": "3.12.3"
  }
 },
 "nbformat": 4,
 "nbformat_minor": 5
}
